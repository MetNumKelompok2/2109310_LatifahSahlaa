{
 "cells": [
  {
   "cell_type": "code",
   "execution_count": 7,
   "metadata": {},
   "outputs": [
    {
     "name": "stdout",
     "output_type": "stream",
     "text": [
      "Integral dengan metode trapesium: 0.784241\n"
     ]
    }
   ],
   "source": [
    "# Mencari integral untuk f(x) dengan metode trapesium\n",
    "e= 2.71828\n",
    "def f(x):\n",
    "    pepega = eval(fx)\n",
    "    return pepega\n",
    "\n",
    "# Algoritma Trapesium\n",
    "def trapezoidal(a,b,n):\n",
    "    h = (b - a) / n\n",
    "    integration = f(a)+f(b)\n",
    "    for i in range(1,n):\n",
    "        k = a + i*h\n",
    "        integration = integration+ 2 * f(k)\n",
    "    integration = integration * h/2\n",
    "    return integration\n",
    "    \n",
    "# Input\n",
    "fx = str(input(\"masukan fungsinya : \"))\n",
    "a = float(input(\"Masukkan batas bawah: \"))\n",
    "b = float(input(\"Masukkan batas atas: \"))\n",
    "n = int(input(\"Masukkan jumlah iterasi: \"))\n",
    "\n",
    "# Hasil\n",
    "result = trapezoidal(a, b, n)\n",
    "print(\"Integral dengan metode trapesium: %0.6f\" % (result))"
   ]
  }
 ],
 "metadata": {
  "kernelspec": {
   "display_name": "Python 3.7.4 32-bit",
   "language": "python",
   "name": "python3"
  },
  "language_info": {
   "codemirror_mode": {
    "name": "ipython",
    "version": 3
   },
   "file_extension": ".py",
   "mimetype": "text/x-python",
   "name": "python",
   "nbconvert_exporter": "python",
   "pygments_lexer": "ipython3",
   "version": "3.7.4"
  },
  "orig_nbformat": 4,
  "vscode": {
   "interpreter": {
    "hash": "d0c5ed79cedddbaa16f8352bf3e5e542221587d0982b8f353612623ef853093e"
   }
  }
 },
 "nbformat": 4,
 "nbformat_minor": 2
}
